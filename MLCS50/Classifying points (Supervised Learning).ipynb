{
 "cells": [
  {
   "cell_type": "code",
   "execution_count": 1,
   "metadata": {},
   "outputs": [],
   "source": [
    "# import python modules :\n",
    "import numpy as np \n",
    "import matplotlib.pyplot as plt\n"
   ]
  },
  {
   "cell_type": "code",
   "execution_count": 5,
   "metadata": {},
   "outputs": [],
   "source": [
    "x_train = np.array([[1,1],[2,2.5],[3,1.2],[5.5,6.3],[6,9],[7,6]])\n",
    "y_train = ['red','red','red','blue','blue','blue']"
   ]
  },
  {
   "cell_type": "code",
   "execution_count": 4,
   "metadata": {},
   "outputs": [
    {
     "name": "stdout",
     "output_type": "stream",
     "text": [
      "7.0\n",
      "6.0\n"
     ]
    }
   ],
   "source": [
    "# We can think of x_train as 2-dimensional array\n",
    "print(x_train[5,0])  # Here '5' refers to the 6th element and '0' refers to the x-coordinate\n",
    "print(x_train[5,1])  # Here '1' refers to the y-coordinate"
   ]
  },
  {
   "cell_type": "code",
   "execution_count": 7,
   "metadata": {},
   "outputs": [
    {
     "name": "stdout",
     "output_type": "stream",
     "text": [
      "[1.  2.  3.  5.5 6.  7. ]\n",
      "[1.  2.5 1.2 6.3 9.  6. ]\n"
     ]
    }
   ],
   "source": [
    "# Python has a convenient way of slicing syntax\n",
    "print(x_train[:,0])  # Prints all the x-coordinate of the array\n",
    "print(x_train[:,1])  # Prints all the y-coordinate of the array"
   ]
  },
  {
   "cell_type": "code",
   "execution_count": 9,
   "metadata": {},
   "outputs": [
    {
     "data": {
      "image/png": "[encoded data removed]",
      "text/plain": [
       "<Figure size 432x288 with 1 Axes>"
      ]
     },
     "metadata": {},
     "output_type": "display_data"
    }
   ],
   "source": [
    "# Plot the training set\n",
    "plt.figure()\n",
    "# Everytime we are plotting a point we are taking a color from corresponding array\n",
    "plt.scatter(x_train[:,0],x_train[:,1],s=170,color=y_train[:]) # Here 's' defines the size of point\n",
    "plt.show()"
   ]
  },
  {
   "cell_type": "code",
   "execution_count": 12,
   "metadata": {},
   "outputs": [],
   "source": [
    "# Create a new test point\n",
    "x_test = np.array([3,4])"
   ]
  },
  {
   "cell_type": "code",
   "execution_count": 14,
   "metadata": {},
   "outputs": [
    {
     "data": {
      "image/png": "[encoded data removed]",
      "text/plain": [
       "<Figure size 432x288 with 1 Axes>"
      ]
     },
     "metadata": {},
     "output_type": "display_data"
    }
   ],
   "source": [
    "# Plot again\n",
    "plt.figure()\n",
    "plt.scatter(x_train[:,0],x_train[:,1],s=170,color=y_train[:])\n",
    "plt.scatter(x_test[0],x_test[1],s=170,color=\"green\")  # Ploting the test point\n",
    "plt.show()"
   ]
  },
  {
   "cell_type": "code",
   "execution_count": 16,
   "metadata": {},
   "outputs": [],
   "source": [
    "# To run the Nearest Neighbor Classifier define a distance function:\n",
    "def dis(x,y):\n",
    "    return np.sqrt(np.sum(x-y)**2)  \n",
    "# (x-y)^2 = (x-y)**2  Python thinks of it as coordinate wise squaring where x and y are variables containing the coordinte"
   ]
  },
  {
   "cell_type": "code",
   "execution_count": 17,
   "metadata": {},
   "outputs": [
    {
     "name": "stdout",
     "output_type": "stream",
     "text": [
      "[5.  2.5 2.8 4.8 8.  6. ]\n"
     ]
    }
   ],
   "source": [
    "# For each point in x_train we computeits distance to x_test:\n",
    "num = len(x_train)  # No. of points in x_train\n",
    "distance = np.zeros(num)  # Numpu arrrays of zeroes (Initializing an array of zeroes)\n",
    "for i in range(num):\n",
    "    distance[i] = dis(x_train[i],x_test)  # It computes the distance and assigns it to the distance variable\n",
    "print(distance)"
   ]
  },
  {
   "cell_type": "code",
   "execution_count": 20,
   "metadata": {},
   "outputs": [
    {
     "name": "stdout",
     "output_type": "stream",
     "text": [
      "red\n"
     ]
    }
   ],
   "source": [
    "# Choose the point in x_train with the minimum distance from x_new:\n",
    "min_index = np.argmin(distance)  # Index with smallest distance is taken from the 'distance' set\n",
    "print(y_train[min_index])"
   ]
  },
  {
   "cell_type": "code",
   "execution_count": null,
   "metadata": {},
   "outputs": [],
   "source": []
  }
 ],
 "metadata": {
  "kernelspec": {
   "display_name": "Python 3",
   "language": "python",
   "name": "python3"
  },
  "language_info": {
   "codemirror_mode": {
    "name": "ipython",
    "version": 3
   },
   "file_extension": ".py",
   "mimetype": "text/x-python",
   "name": "python",
   "nbconvert_exporter": "python",
   "pygments_lexer": "ipython3",
   "version": "3.7.1"
  }
 },
 "nbformat": 4,
 "nbformat_minor": 2
}
